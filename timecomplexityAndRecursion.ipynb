{
 "cells": [
  {
   "cell_type": "markdown",
   "metadata": {},
   "source": [
    "# Find time Complexity of below code blocks :\n"
   ]
  },
  {
   "cell_type": "markdown",
   "metadata": {},
   "source": [
    "Problem1"
   ]
  },
  {
   "cell_type": "code",
   "execution_count": 1,
   "metadata": {},
   "outputs": [],
   "source": [
    "# QuickSort\n",
    "def quicksort(arr):\n",
    "    if len(arr) <= 1:\n",
    "        return arr\n",
    "    pivot = arr[len(arr) // 2]\n",
    "    left = [x for x in arr if x < pivot]\n",
    "    middle = [x for x in arr if x == pivot]\n",
    "    right = [x for x in arr if x > pivot]\n",
    "    return quicksort(left) + middle + quicksort(right)\n",
    "\n",
    "# Time Complexity: O(n log n) on average, O(n^2) in the worst case\n"
   ]
  },
  {
   "cell_type": "markdown",
   "metadata": {},
   "source": [
    "Problem 2"
   ]
  },
  {
   "cell_type": "code",
   "execution_count": 2,
   "metadata": {},
   "outputs": [],
   "source": [
    "# Nested Loop\n",
    "def nested_loop_example(matrix):\n",
    "    rows, cols = len(matrix), len(matrix[0])\n",
    "    total = 0\n",
    "    for i in range(rows):                   #n \n",
    "\n",
    "        for j in range(cols):                 #n\n",
    "            total += matrix[i][j]\n",
    "    return total\n",
    "\n",
    "# Time Complexity: O(rows * cols) => O(n^2) where n is the number of elements in the matrix\n"
   ]
  },
  {
   "cell_type": "markdown",
   "metadata": {},
   "source": [
    "Problem 3"
   ]
  },
  {
   "cell_type": "code",
   "execution_count": 3,
   "metadata": {},
   "outputs": [],
   "source": [
    "# Example of Function\n",
    "def example_function(arr):\n",
    "    result = 0\n",
    "    for element in arr:             #n\n",
    "        result += element\n",
    "    return result\n",
    "\n",
    "# Time Complexity: O(n), where n is the number of elements in arr\n"
   ]
  },
  {
   "cell_type": "markdown",
   "metadata": {},
   "source": [
    "Problem 4\n"
   ]
  },
  {
   "cell_type": "code",
   "execution_count": 4,
   "metadata": {},
   "outputs": [],
   "source": [
    "#Longest InCreasing Subsequence Problem\n",
    "\n",
    "def longest_increasing_subsequence(nums):\n",
    "    n = len(nums)\n",
    "    lis = [1] * n\n",
    "    for i in range(1, n):          # n\n",
    "        for j in range(0, i):         # n\n",
    "            if nums[i] > nums[j] and lis[i] < lis[j] + 1:\n",
    "                lis[i] = lis[j] + 1\n",
    "    return max(lis)\n",
    "\n",
    "# Time Complexity: O(n^2), where n is the length of nums\n"
   ]
  },
  {
   "cell_type": "markdown",
   "metadata": {},
   "source": [
    "Problem 5"
   ]
  },
  {
   "cell_type": "code",
   "execution_count": 5,
   "metadata": {},
   "outputs": [],
   "source": [
    "# Mysterious Function\n",
    "def mysterious_function(arr):\n",
    "    n = len(arr)\n",
    "    result = 0\n",
    "    for i in range(n):            # n\n",
    "        for j in range(i, n):          # n\n",
    "            result += arr[i] * arr[j]\n",
    "    return result\n",
    "\n",
    "# Time Complexity: O(n^2), where n is the number of elements in arr\n"
   ]
  },
  {
   "cell_type": "markdown",
   "metadata": {},
   "source": [
    "## Solve the following problems on Recursion"
   ]
  },
  {
   "cell_type": "markdown",
   "metadata": {},
   "source": [
    "Problem 6 : Sum of Digits\n",
    "\n",
    "\n",
    "Write a recursive function to calculate the sum of digits of a given positive integer.\n",
    "\n",
    "\n",
    "sum_of_digits(123) -> 6"
   ]
  },
  {
   "cell_type": "code",
   "execution_count": 6,
   "metadata": {},
   "outputs": [],
   "source": [
    "def sum_of_digits(num):\n",
    "    if num < 10:\n",
    "        return num\n",
    "    \n",
    "    else:\n",
    "        return num%10 + sum_of_digits(num//10)"
   ]
  },
  {
   "cell_type": "code",
   "execution_count": 8,
   "metadata": {},
   "outputs": [
    {
     "data": {
      "text/plain": [
       "10"
      ]
     },
     "execution_count": 8,
     "metadata": {},
     "output_type": "execute_result"
    }
   ],
   "source": [
    "sum_of_digits(1234)"
   ]
  },
  {
   "cell_type": "markdown",
   "metadata": {},
   "source": [
    "Problem 7: Fibonacci Series\n",
    "\n",
    "\n",
    "Write a recursive function to generate the first n numbers of the Fibonacci series.\n",
    "\n",
    "\n",
    "fibonacci_series(6) -> [0, 1, 1, 2, 3, 5]"
   ]
  },
  {
   "cell_type": "code",
   "execution_count": 13,
   "metadata": {},
   "outputs": [],
   "source": [
    "def fibonacci_series(n):\n",
    "\n",
    "    def fib(i):\n",
    "        if i<=1:\n",
    "            return i\n",
    "        \n",
    "        else:\n",
    "            return fib(i-1) + fib(i-2)\n",
    "\n",
    "    series = [fib(i) for i in range(n)]   \n",
    "    return series "
   ]
  },
  {
   "cell_type": "code",
   "execution_count": 14,
   "metadata": {},
   "outputs": [
    {
     "data": {
      "text/plain": [
       "[0, 1, 1, 2, 3, 5]"
      ]
     },
     "execution_count": 14,
     "metadata": {},
     "output_type": "execute_result"
    }
   ],
   "source": [
    "fibonacci_series(6)"
   ]
  },
  {
   "cell_type": "markdown",
   "metadata": {},
   "source": [
    "Problem 8 : Subset Sum\n",
    "\n",
    "\n",
    "Given a set of positive integers and a target sum, write a recursive function to determine if there exists a subset \n",
    "of the integers that adds up to the target sum.\n",
    "\n",
    "\n",
    "subset_sum([3, 34, 4, 12, 5, 2], 9) -> True"
   ]
  },
  {
   "cell_type": "code",
   "execution_count": 15,
   "metadata": {},
   "outputs": [
    {
     "name": "stdout",
     "output_type": "stream",
     "text": [
      "True\n"
     ]
    }
   ],
   "source": [
    "def subset_sum(nums, target):\n",
    "    def subset_sum_recursive(n, target):\n",
    "        if target == 0:\n",
    "            return True\n",
    "        if n == 0:\n",
    "            return False\n",
    "        \n",
    "        if nums[n-1] > target:\n",
    "            return subset_sum_recursive(n-1, target)\n",
    "        \n",
    "        return subset_sum_recursive(n-1, target) or subset_sum_recursive(n-1, target - nums[n-1])\n",
    "    \n",
    "    return subset_sum_recursive(len(nums), target)\n",
    "\n",
    "print(subset_sum([3, 34, 4, 12, 5, 2], 9)) \n"
   ]
  },
  {
   "cell_type": "markdown",
   "metadata": {},
   "source": [
    "Problem 9: Word Break\n",
    "\n",
    "\n",
    "Given a non-empty string and a dictionary of words, write a recursive function to determine if the string can be \n",
    "segmented into a space-separated sequence of dictionary words.\n",
    "\n",
    "\n",
    "word_break( leetcode , [ leet , code ]) -> True"
   ]
  },
  {
   "cell_type": "code",
   "execution_count": 16,
   "metadata": {},
   "outputs": [
    {
     "name": "stdout",
     "output_type": "stream",
     "text": [
      "True\n"
     ]
    }
   ],
   "source": [
    "def word_break(s, word_dict):\n",
    "    def word_break_recursive(s):\n",
    "        if not s:\n",
    "            return True\n",
    "        \n",
    "        for i in range(1, len(s) + 1):\n",
    "            if s[:i] in word_dict and word_break_recursive(s[i:]):\n",
    "                return True\n",
    "        \n",
    "        return False\n",
    "    \n",
    "    return word_break_recursive(s)\n",
    "\n",
    "print(word_break(\"leetcode\", [\"leet\", \"code\"]))\n"
   ]
  },
  {
   "cell_type": "markdown",
   "metadata": {},
   "source": [
    "Problem 10 : N-Queens\n",
    "\n",
    "\n",
    "Implement a recursive function to solve the N Queens problem, where you have to place N queens on an N×N \n",
    "chessboard in such a way that no two queens threaten each other.\n",
    "\n",
    "\n",
    "n_queens(4)\n",
    "\n",
    "\n",
    "[\n",
    "\n",
    " [\".Q..\",\n",
    "\n",
    "  \"...Q\",\n",
    "\n",
    "  \"Q...\",\n",
    "\n",
    "  \"..Q.\"],\n",
    "\n",
    " [\"..Q.\",\n",
    "\n",
    "  \"Q...\",\n",
    "\n",
    "  \"...Q\",\n",
    "\n",
    "  \".Q..\"]\n",
    "\n",
    "]"
   ]
  },
  {
   "cell_type": "code",
   "execution_count": 17,
   "metadata": {},
   "outputs": [
    {
     "name": "stdout",
     "output_type": "stream",
     "text": [
      "[['.Q..', '...Q', 'Q...', '..Q.'], ['..Q.', 'Q...', '...Q', '.Q..']]\n"
     ]
    }
   ],
   "source": [
    "def n_queens(n):\n",
    "    def solve(board, row):\n",
    "        if row == n:\n",
    "            result.append([\"\".join(row) for row in board])\n",
    "            return\n",
    "        \n",
    "        for col in range(n):\n",
    "            if is_safe(board, row, col):\n",
    "                board[row][col] = 'Q'\n",
    "                solve(board, row + 1)\n",
    "                board[row][col] = '.'\n",
    "    \n",
    "    def is_safe(board, row, col):\n",
    "        for i in range(row):\n",
    "            if board[i][col] == 'Q':\n",
    "                return False\n",
    "        \n",
    "        i, j = row, col\n",
    "        while i >= 0 and j >= 0:\n",
    "            if board[i][j] == 'Q':\n",
    "                return False\n",
    "            i -= 1\n",
    "            j -= 1\n",
    "        \n",
    "        i, j = row, col\n",
    "        while i >= 0 and j < n:\n",
    "            if board[i][j] == 'Q':\n",
    "                return False\n",
    "            i -= 1\n",
    "            j += 1\n",
    "        \n",
    "        return True\n",
    "    \n",
    "    result = []\n",
    "    board = [[\".\" for _ in range(n)] for _ in range(n)]\n",
    "    solve(board, 0)\n",
    "    return result\n",
    "\n",
    "print(n_queens(4))\n"
   ]
  },
  {
   "cell_type": "code",
   "execution_count": null,
   "metadata": {},
   "outputs": [],
   "source": []
  }
 ],
 "metadata": {
  "kernelspec": {
   "display_name": "Python 3",
   "language": "python",
   "name": "python3"
  },
  "language_info": {
   "codemirror_mode": {
    "name": "ipython",
    "version": 3
   },
   "file_extension": ".py",
   "mimetype": "text/x-python",
   "name": "python",
   "nbconvert_exporter": "python",
   "pygments_lexer": "ipython3",
   "version": "3.11.0"
  }
 },
 "nbformat": 4,
 "nbformat_minor": 2
}
